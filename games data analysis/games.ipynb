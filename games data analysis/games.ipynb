{
 "cells": [
  {
   "cell_type": "code",
   "execution_count": 5,
   "metadata": {},
   "outputs": [
    {
     "data": {
      "text/plain": [
       "'Wii Sports Resort'"
      ]
     },
     "execution_count": 5,
     "metadata": {},
     "output_type": "execute_result"
    }
   ],
   "source": [
    "import numpy as np\n",
    "import pandas as pd\n",
    "\n",
    "sales=pd.read_csv('vgsales.csv')\n",
    "sales.iloc[3]['Name']"
   ]
  },
  {
   "cell_type": "code",
   "execution_count": 6,
   "metadata": {},
   "outputs": [
    {
     "data": {
      "text/html": [
       "<div>\n",
       "<style scoped>\n",
       "    .dataframe tbody tr th:only-of-type {\n",
       "        vertical-align: middle;\n",
       "    }\n",
       "\n",
       "    .dataframe tbody tr th {\n",
       "        vertical-align: top;\n",
       "    }\n",
       "\n",
       "    .dataframe thead th {\n",
       "        text-align: right;\n",
       "    }\n",
       "</style>\n",
       "<table border=\"1\" class=\"dataframe\">\n",
       "  <thead>\n",
       "    <tr style=\"text-align: right;\">\n",
       "      <th></th>\n",
       "      <th>Rank</th>\n",
       "      <th>Name</th>\n",
       "      <th>Platform</th>\n",
       "      <th>Year</th>\n",
       "      <th>Genre</th>\n",
       "      <th>Publisher</th>\n",
       "      <th>NA_Sales</th>\n",
       "      <th>EU_Sales</th>\n",
       "      <th>JP_Sales</th>\n",
       "      <th>Other_Sales</th>\n",
       "      <th>Global_Sales</th>\n",
       "    </tr>\n",
       "  </thead>\n",
       "  <tbody>\n",
       "    <tr>\n",
       "      <th>0</th>\n",
       "      <td>1</td>\n",
       "      <td>Wii Sports</td>\n",
       "      <td>Wii</td>\n",
       "      <td>2006.0</td>\n",
       "      <td>Sports</td>\n",
       "      <td>Nintendo</td>\n",
       "      <td>41.49</td>\n",
       "      <td>29.02</td>\n",
       "      <td>3.77</td>\n",
       "      <td>8.46</td>\n",
       "      <td>82.74</td>\n",
       "    </tr>\n",
       "    <tr>\n",
       "      <th>1</th>\n",
       "      <td>2</td>\n",
       "      <td>Super Mario Bros.</td>\n",
       "      <td>NES</td>\n",
       "      <td>1985.0</td>\n",
       "      <td>Platform</td>\n",
       "      <td>Nintendo</td>\n",
       "      <td>29.08</td>\n",
       "      <td>3.58</td>\n",
       "      <td>6.81</td>\n",
       "      <td>0.77</td>\n",
       "      <td>40.24</td>\n",
       "    </tr>\n",
       "    <tr>\n",
       "      <th>2</th>\n",
       "      <td>3</td>\n",
       "      <td>Mario Kart Wii</td>\n",
       "      <td>Wii</td>\n",
       "      <td>2008.0</td>\n",
       "      <td>Racing</td>\n",
       "      <td>Nintendo</td>\n",
       "      <td>15.85</td>\n",
       "      <td>12.88</td>\n",
       "      <td>3.79</td>\n",
       "      <td>3.31</td>\n",
       "      <td>35.82</td>\n",
       "    </tr>\n",
       "    <tr>\n",
       "      <th>3</th>\n",
       "      <td>4</td>\n",
       "      <td>Wii Sports Resort</td>\n",
       "      <td>Wii</td>\n",
       "      <td>2009.0</td>\n",
       "      <td>Sports</td>\n",
       "      <td>Nintendo</td>\n",
       "      <td>15.75</td>\n",
       "      <td>11.01</td>\n",
       "      <td>3.28</td>\n",
       "      <td>2.96</td>\n",
       "      <td>33.00</td>\n",
       "    </tr>\n",
       "    <tr>\n",
       "      <th>4</th>\n",
       "      <td>5</td>\n",
       "      <td>Pokemon Red/Pokemon Blue</td>\n",
       "      <td>GB</td>\n",
       "      <td>1996.0</td>\n",
       "      <td>Role-Playing</td>\n",
       "      <td>Nintendo</td>\n",
       "      <td>11.27</td>\n",
       "      <td>8.89</td>\n",
       "      <td>10.22</td>\n",
       "      <td>1.00</td>\n",
       "      <td>31.37</td>\n",
       "    </tr>\n",
       "  </tbody>\n",
       "</table>\n",
       "</div>"
      ],
      "text/plain": [
       "   Rank                      Name Platform    Year         Genre Publisher  \\\n",
       "0     1                Wii Sports      Wii  2006.0        Sports  Nintendo   \n",
       "1     2         Super Mario Bros.      NES  1985.0      Platform  Nintendo   \n",
       "2     3            Mario Kart Wii      Wii  2008.0        Racing  Nintendo   \n",
       "3     4         Wii Sports Resort      Wii  2009.0        Sports  Nintendo   \n",
       "4     5  Pokemon Red/Pokemon Blue       GB  1996.0  Role-Playing  Nintendo   \n",
       "\n",
       "   NA_Sales  EU_Sales  JP_Sales  Other_Sales  Global_Sales  \n",
       "0     41.49     29.02      3.77         8.46         82.74  \n",
       "1     29.08      3.58      6.81         0.77         40.24  \n",
       "2     15.85     12.88      3.79         3.31         35.82  \n",
       "3     15.75     11.01      3.28         2.96         33.00  \n",
       "4     11.27      8.89     10.22         1.00         31.37  "
      ]
     },
     "execution_count": 6,
     "metadata": {},
     "output_type": "execute_result"
    }
   ],
   "source": [
    "sales.head()"
   ]
  },
  {
   "cell_type": "code",
   "execution_count": 7,
   "metadata": {},
   "outputs": [
    {
     "data": {
      "text/plain": [
       "8    New Super Mario Bros. Wii\n",
       "Name: Name, dtype: object"
      ]
     },
     "execution_count": 7,
     "metadata": {},
     "output_type": "execute_result"
    }
   ],
   "source": [
    "sales[sales.Rank == 9]['Name']"
   ]
  },
  {
   "cell_type": "code",
   "execution_count": 87,
   "metadata": {},
   "outputs": [
    {
     "data": {
      "text/plain": [
       "Rank                 16599\n",
       "Name            Know How 2\n",
       "Platform                DS\n",
       "Year                2010.0\n",
       "Genre               Puzzle\n",
       "Publisher         7G//AMES\n",
       "NA_Sales               0.0\n",
       "EU_Sales              0.01\n",
       "JP_Sales               0.0\n",
       "Other_Sales            0.0\n",
       "Global_Sales          0.01\n",
       "Name: 16596, dtype: object"
      ]
     },
     "execution_count": 87,
     "metadata": {},
     "output_type": "execute_result"
    }
   ],
   "source": [
    "# game that is ranked second from last\n",
    "# as 'Rank' column is already sorted in ascending order, we can just use iloc to find last 2nd record\n",
    "sales.iloc[-2]"
   ]
  },
  {
   "cell_type": "code",
   "execution_count": 14,
   "metadata": {},
   "outputs": [
    {
     "data": {
      "text/plain": [
       "Index(['Rank', 'Name', 'Platform', 'Year', 'Genre', 'Publisher', 'NA_Sales',\n",
       "       'EU_Sales', 'JP_Sales', 'Other_Sales', 'Global_Sales'],\n",
       "      dtype='object')"
      ]
     },
     "execution_count": 14,
     "metadata": {},
     "output_type": "execute_result"
    }
   ],
   "source": [
    "# store all column names in a variable called columns\n",
    "columns = sales.columns\n",
    "columns"
   ]
  },
  {
   "cell_type": "code",
   "execution_count": 15,
   "metadata": {},
   "outputs": [
    {
     "data": {
      "text/plain": [
       "0        82.74\n",
       "1        40.24\n",
       "2        35.82\n",
       "3        33.00\n",
       "4        31.37\n",
       "         ...  \n",
       "16593     0.01\n",
       "16594     0.01\n",
       "16595     0.01\n",
       "16596     0.01\n",
       "16597     0.01\n",
       "Name: Global_Sales, Length: 16598, dtype: float64"
      ]
     },
     "execution_count": 15,
     "metadata": {},
     "output_type": "execute_result"
    }
   ],
   "source": [
    "# syntax to store the ‘Global_Sales’ column in a series called series1\n",
    "series1 = pd.Series(sales['Global_Sales'])\n",
    "series1"
   ]
  },
  {
   "cell_type": "code",
   "execution_count": 89,
   "metadata": {},
   "outputs": [
    {
     "data": {
      "text/plain": [
       "Names\n",
       "0     82.74\n",
       "2     35.82\n",
       "4     31.37\n",
       "6     30.01\n",
       "8     28.62\n",
       "10    24.76\n",
       "12    23.10\n",
       "14    22.00\n",
       "16    21.40\n",
       "18    20.61\n",
       "20    18.36\n",
       "22    17.28\n",
       "24    16.15\n",
       "26    15.32\n",
       "28    14.98\n",
       "30    14.64\n",
       "32    14.35\n",
       "34    14.03\n",
       "36    13.51\n",
       "38    13.10\n",
       "40    12.73\n",
       "42    12.21\n",
       "44    11.98\n",
       "46    11.89\n",
       "48    11.52\n",
       "50    11.18\n",
       "52    10.95\n",
       "54    10.77\n",
       "56    10.57\n",
       "58    10.49\n",
       "60    10.26\n",
       "62     9.88\n",
       "64     9.82\n",
       "66     9.72\n",
       "68     9.52\n",
       "70     9.32\n",
       "72     9.20\n",
       "74     9.02\n",
       "76     8.76\n",
       "78     8.49\n",
       "80     8.42\n",
       "82     8.24\n",
       "84     8.09\n",
       "86     8.05\n",
       "88     7.84\n",
       "90     7.72\n",
       "92     7.67\n",
       "94     7.60\n",
       "96     7.46\n",
       "98     7.37\n",
       "Name: Global_Sales, dtype: float64"
      ]
     },
     "execution_count": 89,
     "metadata": {},
     "output_type": "execute_result"
    }
   ],
   "source": [
    "# print all even indexed values of 'Global_Sales' column stored in series1  upto the 100th index\n",
    "series1[0:100:2]"
   ]
  },
  {
   "cell_type": "code",
   "execution_count": 22,
   "metadata": {},
   "outputs": [
    {
     "data": {
      "text/plain": [
       "Names\n",
       "0    82.74\n",
       "1    40.24\n",
       "2    35.82\n",
       "3    33.00\n",
       "4    31.37\n",
       "Name: Global_Sales, dtype: float64"
      ]
     },
     "execution_count": 22,
     "metadata": {},
     "output_type": "execute_result"
    }
   ],
   "source": [
    "# syntax to rename the index column of series1 below to “Names”\n",
    "series1 = series1.rename_axis(\"Names\");\n",
    "series1.head()"
   ]
  },
  {
   "cell_type": "code",
   "execution_count": 23,
   "metadata": {},
   "outputs": [
    {
     "data": {
      "text/plain": [
       "45    11.90\n",
       "67     9.59\n",
       "Name: Global_Sales, dtype: float64"
      ]
     },
     "execution_count": 23,
     "metadata": {},
     "output_type": "execute_result"
    }
   ],
   "source": [
    "list1=[45,67]\n",
    "series2=pd.Series(series1,index=list1)\n",
    "series2"
   ]
  },
  {
   "cell_type": "code",
   "execution_count": 24,
   "metadata": {},
   "outputs": [
    {
     "name": "stdout",
     "output_type": "stream",
     "text": [
      "3 3 3\n"
     ]
    }
   ],
   "source": [
    "series3=pd.Series(sales['Rank'])\n",
    "print(series3[2],series3.iloc[2],series3.loc[2])"
   ]
  },
  {
   "cell_type": "code",
   "execution_count": 25,
   "metadata": {},
   "outputs": [
    {
     "name": "stdout",
     "output_type": "stream",
     "text": [
      "4 2\n"
     ]
    }
   ],
   "source": [
    "series4 = series3.add(2)\n",
    "series4.iat[2] = 2\n",
    "print(series4[1], series4[2])"
   ]
  },
  {
   "cell_type": "code",
   "execution_count": 26,
   "metadata": {},
   "outputs": [
    {
     "name": "stdout",
     "output_type": "stream",
     "text": [
      "51 53 104\n"
     ]
    }
   ],
   "source": [
    "combined = series3 + series4\n",
    "print(series3[50], series4[50], combined[50])"
   ]
  },
  {
   "cell_type": "code",
   "execution_count": 27,
   "metadata": {},
   "outputs": [
    {
     "name": "stdout",
     "output_type": "stream",
     "text": [
      "No.of unique platforms are: 31\n"
     ]
    }
   ],
   "source": [
    "# total number of unique platforms in the sales Dataframe are\n",
    "platform = sales['Platform'].unique()\n",
    "print(\"No.of unique platforms are: {}\".format(len(platform)))"
   ]
  },
  {
   "cell_type": "code",
   "execution_count": 29,
   "metadata": {},
   "outputs": [
    {
     "data": {
      "text/plain": [
       "(16598, 11)"
      ]
     },
     "execution_count": 29,
     "metadata": {},
     "output_type": "execute_result"
    }
   ],
   "source": [
    "# How many rows and columns does the sales Dataframe below\n",
    "sales.shape"
   ]
  },
  {
   "cell_type": "code",
   "execution_count": 30,
   "metadata": {},
   "outputs": [
    {
     "data": {
      "text/plain": [
       "271"
      ]
     },
     "execution_count": 30,
     "metadata": {},
     "output_type": "execute_result"
    }
   ],
   "source": [
    "# How many rows have null values in the 'Year' column in sales datarame below?\n",
    "sales['Year'].isnull().sum()"
   ]
  },
  {
   "cell_type": "code",
   "execution_count": 90,
   "metadata": {},
   "outputs": [
    {
     "name": "stdout",
     "output_type": "stream",
     "text": [
      "No.of not null rows:16291\n"
     ]
    }
   ],
   "source": [
    "# How many not null rows exist in the ‘sales’ Dataframe after dropping rows which contain null values in them?\n",
    "sales.dropna(inplace=True)\n",
    "print(\"No.of not null rows:{}\".format(sales.shape[0]))"
   ]
  },
  {
   "cell_type": "code",
   "execution_count": 38,
   "metadata": {},
   "outputs": [
    {
     "name": "stdout",
     "output_type": "stream",
     "text": [
      "no.of unique take two interactive games: 412\n"
     ]
    }
   ],
   "source": [
    "# total number of unique 'Take-Two Interactive' games in the sales dataframe?\n",
    "idx = sales.index[sales['Publisher']== 'Take-Two Interactive']\n",
    "take_two_interactive = len(idx)\n",
    "print(\"no.of unique take two interactive games: {}\".format(take_two_interactive))"
   ]
  },
  {
   "cell_type": "code",
   "execution_count": 95,
   "metadata": {},
   "outputs": [
    {
     "name": "stdout",
     "output_type": "stream",
     "text": [
      "The highest selling game in 2013 is Grand Theft Auto V\n"
     ]
    }
   ],
   "source": [
    "# highest selling PC game from ‘Take-Two Interactive’ in 2013\n",
    "publisher = sales.loc[(sales['Publisher'] == 'Take-Two Interactive') & (sales['Year'] == 2013)]\n",
    "max_index = publisher['Global_Sales'].idxmax()\n",
    "high_selling_game = publisher.loc[max_index]\n",
    "print(\"The highest selling game in 2013 is {}\".format(high_selling_game['Name']))"
   ]
  },
  {
   "cell_type": "code",
   "execution_count": 82,
   "metadata": {},
   "outputs": [
    {
     "name": "stdout",
     "output_type": "stream",
     "text": [
      "The sum_Other_Sales region has contributed to only 8.957232001743964 % of total sales\n"
     ]
    }
   ],
   "source": [
    "# Which region (NA_Sales, EU_Sales, JP_Sales, Other_Sales) contributed to the least amount of sales below\n",
    "regions = ['NA_Sales', 'EU_Sales', 'JP_Sales', 'Other_Sales']\n",
    "dxt = {}\n",
    "for i in regions:\n",
    "  key = 'sum_' + i\n",
    "  dxt[key] = sales[i].sum()\n",
    "total_sum =sum(dxt.values())\n",
    "min_value = min(dxt.values())\n",
    "for k,v in dxt.items():\n",
    "   if v == min_value:\n",
    "      print(\"The {} region has contributed to only {} % of total sales\".format(k,(v/total_sum)*100))"
   ]
  },
  {
   "cell_type": "code",
   "execution_count": 84,
   "metadata": {},
   "outputs": [
    {
     "name": "stdout",
     "output_type": "stream",
     "text": [
      "The highest selling game in japan is Grand Theft Auto V\n"
     ]
    }
   ],
   "source": [
    "# which game had the highest sales in Japan\n",
    "max_index = publisher['JP_Sales'].idxmax()\n",
    "high_sales_japan = publisher.loc[max_index]\n",
    "print(\"The highest selling game in japan is {}\".format(high_sales_japan['Name']))"
   ]
  }
 ],
 "metadata": {
  "kernelspec": {
   "display_name": "Python 3",
   "language": "python",
   "name": "python3"
  },
  "language_info": {
   "codemirror_mode": {
    "name": "ipython",
    "version": 3
   },
   "file_extension": ".py",
   "mimetype": "text/x-python",
   "name": "python",
   "nbconvert_exporter": "python",
   "pygments_lexer": "ipython3",
   "version": "3.9.13"
  }
 },
 "nbformat": 4,
 "nbformat_minor": 2
}
